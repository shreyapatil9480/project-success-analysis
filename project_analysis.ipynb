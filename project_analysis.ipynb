{
 "cells": [
  {
   "cell_type": "markdown",
   "id": "dafa0db7",
   "metadata": {},
   "source": [
    "# Project Success Prediction Analysis\n",
    "\n",
    "This notebook demonstrates exploratory data analysis and predictive modelling on a synthetic project dataset. The dataset contains features like team size, budget, duration, and complexity of hypothetical projects, along with a binary success label. We'll explore the relationships between these variables and build predictive models.\n"
   ]
  },
  {
   "cell_type": "code",
   "execution_count": null,
   "id": "47f2b08e",
   "metadata": {},
   "outputs": [],
   "source": [
    "\n",
    "import pandas as pd\n",
    "import numpy as np\n",
    "import matplotlib.pyplot as plt\n",
    "import seaborn as sns\n",
    "from sklearn.model_selection import train_test_split\n",
    "from sklearn.metrics import classification_report, confusion_matrix\n",
    "from sklearn.linear_model import LogisticRegression\n",
    "from sklearn.ensemble import RandomForestClassifier\n",
    "\n",
    "# Load dataset\n",
    "file_path = 'synthetic_project_dataset.csv'\n",
    "data = pd.read_csv(file_path)\n",
    "\n",
    "# Display head\n",
    "print(data.head())\n"
   ]
  },
  {
   "cell_type": "markdown",
   "id": "987819a0",
   "metadata": {},
   "source": [
    "## Summary Statistics"
   ]
  },
  {
   "cell_type": "code",
   "execution_count": null,
   "id": "4e63a154",
   "metadata": {},
   "outputs": [],
   "source": [
    "\n",
    "print(\"Data shape:\", data.shape)\n",
    "print(\"\n",
    "Summary statistics:\")\n",
    "print(data.describe())\n"
   ]
  },
  {
   "cell_type": "markdown",
   "id": "133c7252",
   "metadata": {},
   "source": [
    "## Exploratory Data Visualization"
   ]
  },
  {
   "cell_type": "code",
   "execution_count": null,
   "id": "51f63438",
   "metadata": {},
   "outputs": [],
   "source": [
    "\n",
    "# Set plot style\n",
    "sns.set(style='whitegrid')\n",
    "\n",
    "# Histogram for numerical features\n",
    "fig, axes = plt.subplots(2, 2, figsize=(12, 10))\n",
    "numeric_cols = ['Team_Size', 'Budget_kUSD', 'Duration_Months', 'Complexity']\n",
    "for idx, col in enumerate(numeric_cols):\n",
    "    ax = axes[idx//2, idx%2]\n",
    "    sns.histplot(data[col], kde=True, ax=ax, color='skyblue')\n",
    "    ax.set_title(f\"Distribution of {col}\")\n",
    "\n",
    "plt.tight_layout()\n",
    "plt.show()\n",
    "\n",
    "# Scatterplot: Budget vs Duration colored by Success\n",
    "plt.figure(figsize=(7,5))\n",
    "sns.scatterplot(data=data, x='Budget_kUSD', y='Duration_Months', hue='Success', palette='viridis')\n",
    "plt.title('Budget vs Duration by Success')\n",
    "plt.show()\n",
    "\n",
    "# Correlation heatmap\n",
    "plt.figure(figsize=(6,5))\n",
    "corr = data[['Team_Size','Budget_kUSD','Duration_Months','Complexity','Success']].corr()\n",
    "sns.heatmap(corr, annot=True, cmap='Blues')\n",
    "plt.title('Correlation Matrix')\n",
    "plt.show()\n"
   ]
  },
  {
   "cell_type": "markdown",
   "id": "5411ba31",
   "metadata": {},
   "source": [
    "## Predictive Modelling"
   ]
  },
  {
   "cell_type": "code",
   "execution_count": null,
   "id": "ac8af744",
   "metadata": {},
   "outputs": [],
   "source": [
    "\n",
    "# Prepare features and target\n",
    "X = data[['Team_Size','Budget_kUSD','Duration_Months','Complexity']]\n",
    "y = data['Success']\n",
    "\n",
    "# Train-test split\n",
    "X_train, X_test, y_train, y_test = train_test_split(X, y, test_size=0.3, random_state=42, stratify=y)\n",
    "\n",
    "# Logistic Regression model\n",
    "log_reg = LogisticRegression(max_iter=1000)\n",
    "log_reg.fit(X_train, y_train)\n",
    "y_pred_lr = log_reg.predict(X_test)\n",
    "\n",
    "print(\"Logistic Regression Performance:\n",
    "\")\n",
    "print(classification_report(y_test, y_pred_lr))\n",
    "\n",
    "# Random Forest model\n",
    "rf_model = RandomForestClassifier(n_estimators=200, random_state=42)\n",
    "rf_model.fit(X_train, y_train)\n",
    "y_pred_rf = rf_model.predict(X_test)\n",
    "\n",
    "print(\"Random Forest Performance:\n",
    "\")\n",
    "print(classification_report(y_test, y_pred_rf))\n",
    "\n",
    "# Confusion matrices\n",
    "fig, axes = plt.subplots(1, 2, figsize=(10,4))\n",
    "sns.heatmap(confusion_matrix(y_test, y_pred_lr), annot=True, fmt='d', cmap='Reds', ax=axes[0])\n",
    "axes[0].set_title('Logistic Regression Confusion Matrix')\n",
    "sns.heatmap(confusion_matrix(y_test, y_pred_rf), annot=True, fmt='d', cmap='Greens', ax=axes[1])\n",
    "axes[1].set_title('Random Forest Confusion Matrix')\n",
    "plt.show()\n"
   ]
  }
 ],
 "metadata": {},
 "nbformat": 4,
 "nbformat_minor": 5
}
